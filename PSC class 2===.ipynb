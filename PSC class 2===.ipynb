{
 "cells": [
  {
   "cell_type": "code",
   "execution_count": 3,
   "id": "355d34e9-6e17-4783-ab80-b11dc2fff8d3",
   "metadata": {},
   "outputs": [],
   "source": [
    "s = \" this is My first Python programming class and i am learing python string and its function \""
   ]
  },
  {
   "cell_type": "code",
   "execution_count": 4,
   "id": "cb65b659-4e4b-4ba7-a0cc-d8363de2684e",
   "metadata": {},
   "outputs": [
    {
     "data": {
      "text/plain": [
       "' this is My first Python programming class and i am learing python string and its function '"
      ]
     },
     "execution_count": 4,
     "metadata": {},
     "output_type": "execute_result"
    }
   ],
   "source": [
    "s"
   ]
  },
  {
   "cell_type": "code",
   "execution_count": 5,
   "id": "b5123099-10cd-4454-b064-65d2fd341ad0",
   "metadata": {},
   "outputs": [
    {
     "data": {
      "text/plain": [
       "'tssyityopgmncsa alrgyosi dtfco'"
      ]
     },
     "execution_count": 5,
     "metadata": {},
     "output_type": "execute_result"
    }
   ],
   "source": [
    "s[1:300:3]"
   ]
  },
  {
   "cell_type": "code",
   "execution_count": 8,
   "id": "01e1e459-25d6-41ad-9750-22739164af2b",
   "metadata": {},
   "outputs": [],
   "source": [
    "s1 = \"We are learning problem solving using computation\""
   ]
  },
  {
   "cell_type": "code",
   "execution_count": 9,
   "id": "37c751e7-fc91-4d3f-858e-20ec64bc0783",
   "metadata": {},
   "outputs": [
    {
     "data": {
      "text/plain": [
       "'eea'"
      ]
     },
     "execution_count": 9,
     "metadata": {},
     "output_type": "execute_result"
    }
   ],
   "source": [
    "# Extract data from 1 to 10 with a jump of 4 \n",
    "s1[1:11:4]"
   ]
  },
  {
   "cell_type": "markdown",
   "id": "4c072406-38d7-4fe0-8a78-43492d2bfae1",
   "metadata": {},
   "source": [
    "2.Try to reverse a string without using reverse fuction "
   ]
  },
  {
   "cell_type": "code",
   "execution_count": 14,
   "id": "68604435-b11f-44d8-980a-d5bfc36b1ea3",
   "metadata": {},
   "outputs": [
    {
     "data": {
      "text/plain": [
       "' noitcnuf sti dna gnirts nohtyp gnirael ma i dna ssalc gnimmargorp nohtyP tsrif yM si siht '"
      ]
     },
     "execution_count": 14,
     "metadata": {},
     "output_type": "execute_result"
    }
   ],
   "source": [
    "s[::-1]"
   ]
  },
  {
   "cell_type": "markdown",
   "id": "17f45af1-e2d9-4d9f-9f58-b21b20039e59",
   "metadata": {},
   "source": [
    "3. Try to split the string after the conversion of entire string in uppercase"
   ]
  },
  {
   "cell_type": "code",
   "execution_count": 15,
   "id": "6b3b439e-304e-4bcc-bdb3-0fd916ab767b",
   "metadata": {},
   "outputs": [
    {
     "data": {
      "text/plain": [
       "['THIS',\n",
       " 'IS',\n",
       " 'MY',\n",
       " 'FIRST',\n",
       " 'PYTHON',\n",
       " 'PROGRAMMING',\n",
       " 'CLASS',\n",
       " 'AND',\n",
       " 'I',\n",
       " 'AM',\n",
       " 'LEARING',\n",
       " 'PYTHON',\n",
       " 'STRING',\n",
       " 'AND',\n",
       " 'ITS',\n",
       " 'FUNCTION']"
      ]
     },
     "execution_count": 15,
     "metadata": {},
     "output_type": "execute_result"
    }
   ],
   "source": [
    "# Method 1 \n",
    "s1 = s.upper() \n",
    "s1.split()\n"
   ]
  },
  {
   "cell_type": "code",
   "execution_count": 16,
   "id": "2df61b78-f6c4-4efc-af96-101cdb744444",
   "metadata": {},
   "outputs": [
    {
     "data": {
      "text/plain": [
       "['THIS',\n",
       " 'IS',\n",
       " 'MY',\n",
       " 'FIRST',\n",
       " 'PYTHON',\n",
       " 'PROGRAMMING',\n",
       " 'CLASS',\n",
       " 'AND',\n",
       " 'I',\n",
       " 'AM',\n",
       " 'LEARING',\n",
       " 'PYTHON',\n",
       " 'STRING',\n",
       " 'AND',\n",
       " 'ITS',\n",
       " 'FUNCTION']"
      ]
     },
     "execution_count": 16,
     "metadata": {},
     "output_type": "execute_result"
    }
   ],
   "source": [
    "# Method 2\n",
    "s.upper().split()"
   ]
  },
  {
   "cell_type": "markdown",
   "id": "dfaa24af-df74-4dce-82a2-21de67ffd3e9",
   "metadata": {},
   "source": [
    "Try to convert the whole string in lower"
   ]
  },
  {
   "cell_type": "code",
   "execution_count": 17,
   "id": "55add32c-32a3-4c30-b72e-6799fc5f3e26",
   "metadata": {},
   "outputs": [
    {
     "data": {
      "text/plain": [
       "' this is my first python programming class and i am learing python string and its function '"
      ]
     },
     "execution_count": 17,
     "metadata": {},
     "output_type": "execute_result"
    }
   ],
   "source": [
    "s.lower()"
   ]
  },
  {
   "cell_type": "markdown",
   "id": "0652a4d6-ad3a-404b-aef1-e0b565726d0d",
   "metadata": {},
   "source": [
    "Try to capitalize the whole string"
   ]
  },
  {
   "cell_type": "code",
   "execution_count": 19,
   "id": "4ea77835-4f96-4889-b010-22208454b31e",
   "metadata": {},
   "outputs": [
    {
     "data": {
      "text/plain": [
       "' this is my first python programming class and i am learing python string and its function '"
      ]
     },
     "execution_count": 19,
     "metadata": {},
     "output_type": "execute_result"
    }
   ],
   "source": [
    "s.capitalize()"
   ]
  },
  {
   "cell_type": "markdown",
   "id": "b2849427-193d-46b7-8a8b-f355e8c50d00",
   "metadata": {},
   "source": [
    "Write a difference between isalnum() and isalpha()"
   ]
  },
  {
   "cell_type": "code",
   "execution_count": 21,
   "id": "c9b5e168-9b4a-453d-baff-7c703b04b2a5",
   "metadata": {},
   "outputs": [],
   "source": [
    "# isalpha gives the value as True is all characters is the string are alphabets and isalnum gives all the string characters are either alaphabets and number"
   ]
  },
  {
   "cell_type": "code",
   "execution_count": 22,
   "id": "76c96dd5-7be9-473c-bb5c-e3d0b570cf4e",
   "metadata": {},
   "outputs": [],
   "source": [
    "# for example"
   ]
  },
  {
   "cell_type": "code",
   "execution_count": 23,
   "id": "2a53cc04-afa4-4a5f-8b0c-4e97e2d673ac",
   "metadata": {},
   "outputs": [],
   "source": [
    "test=\"acde\"\n",
    "test1=\" ab24c5\""
   ]
  },
  {
   "cell_type": "code",
   "execution_count": 24,
   "id": "ebc2951d-12ef-406a-89bc-272a719a8745",
   "metadata": {},
   "outputs": [
    {
     "data": {
      "text/plain": [
       "True"
      ]
     },
     "execution_count": 24,
     "metadata": {},
     "output_type": "execute_result"
    }
   ],
   "source": [
    "test. isalpha()"
   ]
  },
  {
   "cell_type": "code",
   "execution_count": 28,
   "id": "b4689a2f-15f3-4562-943b-472205968225",
   "metadata": {},
   "outputs": [
    {
     "data": {
      "text/plain": [
       "False"
      ]
     },
     "execution_count": 28,
     "metadata": {},
     "output_type": "execute_result"
    }
   ],
   "source": [
    "test1. isalnum()"
   ]
  },
  {
   "cell_type": "markdown",
   "id": "dd6a3358-82ee-4da8-95af-5c5173785758",
   "metadata": {},
   "source": [
    "Try to give an example of expand tab"
   ]
  },
  {
   "cell_type": "code",
   "execution_count": 30,
   "id": "c1221bfa-244e-492a-a170-921e2cb14596",
   "metadata": {},
   "outputs": [],
   "source": [
    "exp=\"This\\tis\\ta\\texample\""
   ]
  },
  {
   "cell_type": "code",
   "execution_count": 37,
   "id": "bf26f0b7-0f43-4c9c-b066-cf1eb046df7f",
   "metadata": {},
   "outputs": [
    {
     "data": {
      "text/plain": [
       "'This  is    a     example'"
      ]
     },
     "execution_count": 37,
     "metadata": {},
     "output_type": "execute_result"
    }
   ],
   "source": [
    "exp.expandtabs(6)"
   ]
  },
  {
   "cell_type": "code",
   "execution_count": 39,
   "id": "6942d9af-7e34-4952-8b07-19e826b0268e",
   "metadata": {},
   "outputs": [
    {
     "data": {
      "text/plain": [
       "'This    is      a       example'"
      ]
     },
     "execution_count": 39,
     "metadata": {},
     "output_type": "execute_result"
    }
   ],
   "source": [
    "exp.expandtabs(8)"
   ]
  },
  {
   "cell_type": "markdown",
   "id": "8fc1b813-eee0-4e44-9308-ade474d35c8d",
   "metadata": {},
   "source": [
    "Give an example of strip, lstrip and rstrip"
   ]
  },
  {
   "cell_type": "markdown",
   "id": "03766417-bfb7-4aba-a4d6-28a47b8b32aa",
   "metadata": {},
   "source": [
    "#1 example of strip:\n",
    "a1=\"@@@22@hey!! gaurav@2@@@\"\n",
    "a1.1strip(:\"@2\") # removes all @2only from the right side"
   ]
  },
  {
   "cell_type": "markdown",
   "id": "38f8806f-f321-4547-b23a-e3b8514fa4c4",
   "metadata": {},
   "source": [
    "'hey!! gaurav"
   ]
  },
  {
   "cell_type": "code",
   "execution_count": 43,
   "id": "37a08c8e-95fd-42d7-bc29-48c9b48fd244",
   "metadata": {},
   "outputs": [
    {
     "data": {
      "text/plain": [
       "'hey!! gaurav@2@@@'"
      ]
     },
     "execution_count": 43,
     "metadata": {},
     "output_type": "execute_result"
    }
   ],
   "source": [
    "#2 example of lstrip\n",
    "a1=\"@@@22@hey!! gaurav@2@@@\"\n",
    "a1.lstrip(\"@2\") # removes all @2 only from the left side"
   ]
  },
  {
   "cell_type": "code",
   "execution_count": null,
   "id": "52e91001-a883-4237-a479-d026cbf10ae5",
   "metadata": {},
   "outputs": [],
   "source": [
    "#3 example of rstrip:\n"
   ]
  }
 ],
 "metadata": {
  "kernelspec": {
   "display_name": "Python 3 (ipykernel)",
   "language": "python",
   "name": "python3"
  },
  "language_info": {
   "codemirror_mode": {
    "name": "ipython",
    "version": 3
   },
   "file_extension": ".py",
   "mimetype": "text/x-python",
   "name": "python",
   "nbconvert_exporter": "python",
   "pygments_lexer": "ipython3",
   "version": "3.12.4"
  }
 },
 "nbformat": 4,
 "nbformat_minor": 5
}
